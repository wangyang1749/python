{
 "nbformat": 4,
 "nbformat_minor": 2,
 "metadata": {
  "language_info": {
   "name": "python",
   "codemirror_mode": {
    "name": "ipython",
    "version": 3
   },
   "version": "3.7.5-final"
  },
  "orig_nbformat": 2,
  "file_extension": ".py",
  "mimetype": "text/x-python",
  "name": "python",
  "npconvert_exporter": "python",
  "pygments_lexer": "ipython3",
  "version": 3,
  "kernelspec": {
   "name": "python37564bit9181c6c8d09d47639974893c349bd78e",
   "display_name": "Python 3.7.5 64-bit"
  }
 },
 "cells": [
  {
   "cell_type": "code",
   "execution_count": null,
   "metadata": {},
   "outputs": [],
   "source": [
    "def getTxt():\n",
    "    with open(\"EnglishText.txt\") as input:\n",
    "        txt = input.read()\n",
    "        return txt\n",
    "        "
   ]
  },
  {
   "cell_type": "code",
   "execution_count": null,
   "metadata": {},
   "outputs": [],
   "source": [
    "txtArr  = getTxt().split()\n",
    "print(txtArr)"
   ]
  },
  {
   "cell_type": "code",
   "execution_count": null,
   "metadata": {},
   "outputs": [],
   "source": [
    "counts = {}\n",
    "for word in txtArr:\n",
    "    counts[word] = counts.get(word, 0) + 1\n",
    "print(counts)"
   ]
  },
  {
   "cell_type": "code",
   "execution_count": null,
   "metadata": {},
   "outputs": [],
   "source": [
    "countsList = list(counts.items())\n",
    "print(countsList)"
   ]
  },
  {
   "cell_type": "code",
   "execution_count": 25,
   "metadata": {},
   "outputs": [
    {
     "name": "stdout",
     "output_type": "stream",
     "text": "[('the', 27), ('to', 17), ('and', 13), ('are', 10), ('of', 10), ('in', 9), ('iterator', 9), ('for', 8), ('a', 7), ('This', 6), ('is', 6), ('iteration', 6), ('method', 6), ('objects', 6), ('sequence', 6), ('Python', 5), ('The', 5), ('an', 5), ('be', 5), ('object', 5), ('support', 5), ('structure', 4), ('type', 4), ('API.', 3), ('If', 3), ('Python/C', 3), ('Return', 3), ('both', 3), ('container', 3), ('corresponds', 3), ('described', 3), ('it', 3), ('operations', 3), ('required', 3), ('slot', 3), ('supports', 3), ('types', 3), ('Sequence', 2), ('Types', 2), ('__iter__()', 2), ('__next__()', 2), ('allow', 2), ('by', 2), ('can', 2), ('do', 2), ('following', 2), ('generators', 2), ('implement', 2), ('implemented', 2), ('iterators', 2), ('methods.', 2), ('more', 2), ('not', 2), ('on', 2), ('over', 2), ('protocol.', 2), ('provide', 2), ('provided', 2), ('range', 2), ('specific', 2), ('table', 2), ('that', 2), ('these', 2), ('tp_iter', 2), ('two', 2), ('types,', 2), ('types.', 2), ('used', 2), ('which', 2), ('(An', 1), ('(technically,', 1), ('ABC', 1), ('Additional', 1), ('Common', 1), ('Generator', 1), ('Implementations', 1), ('In', 1), ('More', 1), ('Once', 1), ('One', 1), ('Operations', 1), ('Python’s', 1), ('Sequences,', 1), ('StopIteration', 1), ('StopIteration,', 1), ('There', 1), ('about', 1), ('additional', 1), ('always', 1), ('any', 1), ('arbitrary', 1), ('as', 1), ('ascending', 1), ('automatically', 1), ('basic', 1), ('below', 1), ('below.', 1), ('beyond', 1), ('binary', 1), ('breadth-first', 1), ('broken.', 1), ('calls.', 1), ('classes', 1), ('collections.abc.Sequence', 1), ('concept', 1), ('container.', 1), ('container.__iter__()', 1), ('containers', 1), ('containers.', 1), ('continue', 1), ('convenient', 1), ('correctly', 1), ('custom', 1), ('data', 1), ('dedicated', 1), ('deemed', 1), ('defined', 1), ('defines', 1), ('depth-first', 1), ('detail,', 1), ('dictionaries,', 1), ('different', 1), ('distinct', 1), ('documentation', 1), ('easier', 1), ('example', 1), ('exception.', 1), ('expression.', 1), ('form', 1), ('forms', 1), ('forms.', 1), ('found', 1), ('from', 1), ('further', 1), ('general', 1), ('generator', 1), ('generator,', 1), ('i,', 1), ('immutable.', 1), ('implementation', 1), ('important', 1), ('imposed', 1), ('information', 1), ('integers', 1), ('item', 1), ('items,', 1), ('iteration,', 1), ('iteration.', 1), ('iterator.__iter__()', 1), ('iterator.__next__()', 1), ('iterator’s', 1), ('itself.', 1), ('j', 1), ('k', 1), ('list,', 1), ('lists', 1), ('lists,', 1), ('make', 1), ('meets', 1), ('methods', 1), ('methods,', 1), ('methods;', 1), ('most', 1), ('multiple', 1), ('must', 1), ('mutable', 1), ('n,', 1), ('needs', 1), ('next', 1), ('no', 1), ('obey', 1), ('object)', 1), ('object.', 1), ('objects.', 1), ('object’s', 1), ('other', 1), ('priority.', 1), ('processing', 1), ('property', 1), ('protocol', 1), ('protocol:', 1), ('raise', 1), ('raises', 1), ('request', 1), ('restrictions', 1), ('return', 1), ('s', 1), ('s.', 1), ('same', 1), ('sections.', 1), ('sequences', 1), ('several', 1), ('so', 1), ('sorted', 1), ('specialized', 1), ('specifically', 1), ('statements.', 1), ('strings', 1), ('subsequent', 1), ('supplying', 1), ('support:', 1), ('supported', 1), ('supporting', 1), ('t', 1), ('table,', 1), ('tailored', 1), ('text', 1), ('their', 1), ('themselves', 1), ('there', 1), ('this', 1), ('those', 1), ('three', 1), ('together', 1), ('tp_iternext', 1), ('traversal.)', 1), ('tree', 1), ('tuple,', 1), ('tuples,', 1), ('type,', 1), ('types:', 1), ('user-defined', 1), ('using', 1), ('value', 1), ('way', 1), ('will', 1), ('with', 1), ('would', 1), ('x', 1), ('yield', 1), ('—', 1)]\n"
    }
   ],
   "source": [
    "countsList.sort(key=lambda x : x[1],reverse=True)\n",
    "print(countsList)"
   ]
  },
  {
   "cell_type": "code",
   "execution_count": 26,
   "metadata": {},
   "outputs": [
    {
     "name": "stdout",
     "output_type": "stream",
     "text": "the          27\nto           17\nand          13\nare          10\nof           10\nin            9\niterator      9\nfor           8\na             7\nThis          6\nis            6\niteration     6\nmethod        6\nobjects       6\nsequence      6\nPython        5\nThe           5\nan            5\nbe            5\nobject        5\nsupport       5\nstructure     4\ntype          4\nAPI.          3\nIf            3\nPython/C      3\nReturn        3\nboth          3\ncontainer     3\ncorresponds    3\ndescribed     3\nit            3\noperations    3\nrequired      3\nslot          3\nsupports      3\ntypes         3\nSequence      2\nTypes         2\n__iter__()    2\n__next__()    2\nallow         2\nby            2\ncan           2\ndo            2\nfollowing     2\ngenerators    2\nimplement     2\nimplemented    2\niterators     2\nmethods.      2\nmore          2\nnot           2\non            2\nover          2\nprotocol.     2\nprovide       2\nprovided      2\nrange         2\nspecific      2\ntable         2\nthat          2\nthese         2\ntp_iter       2\ntwo           2\ntypes,        2\ntypes.        2\nused          2\nwhich         2\n(An           1\n(technically,    1\nABC           1\nAdditional    1\nCommon        1\nGenerator     1\nImplementations    1\nIn            1\nMore          1\nOnce          1\nOne           1\nOperations    1\nPython’s      1\nSequences,    1\nStopIteration    1\nStopIteration,    1\nThere         1\nabout         1\nadditional    1\nalways        1\nany           1\narbitrary     1\nas            1\nascending     1\nautomatically    1\nbasic         1\nbelow         1\nbelow.        1\nbeyond        1\nbinary        1\nbreadth-first    1\nbroken.       1\ncalls.        1\nclasses       1\ncollections.abc.Sequence    1\nconcept       1\ncontainer.    1\ncontainer.__iter__()    1\ncontainers    1\ncontainers.    1\ncontinue      1\nconvenient    1\ncorrectly     1\ncustom        1\ndata          1\ndedicated     1\ndeemed        1\ndefined       1\ndefines       1\ndepth-first    1\ndetail,       1\ndictionaries,    1\ndifferent     1\ndistinct      1\ndocumentation    1\neasier        1\nexample       1\nexception.    1\nexpression.    1\nform          1\nforms         1\nforms.        1\nfound         1\nfrom          1\nfurther       1\ngeneral       1\ngenerator     1\ngenerator,    1\ni,            1\nimmutable.    1\nimplementation    1\nimportant     1\nimposed       1\ninformation    1\nintegers      1\nitem          1\nitems,        1\niteration,    1\niteration.    1\niterator.__iter__()    1\niterator.__next__()    1\niterator’s    1\nitself.       1\nj             1\nk             1\nlist,         1\nlists         1\nlists,        1\nmake          1\nmeets         1\nmethods       1\nmethods,      1\nmethods;      1\nmost          1\nmultiple      1\nmust          1\nmutable       1\nn,            1\nneeds         1\nnext          1\nno            1\nobey          1\nobject)       1\nobject.       1\nobjects.      1\nobject’s      1\nother         1\npriority.     1\nprocessing    1\nproperty      1\nprotocol      1\nprotocol:     1\nraise         1\nraises        1\nrequest       1\nrestrictions    1\nreturn        1\ns             1\ns.            1\nsame          1\nsections.     1\nsequences     1\nseveral       1\nso            1\nsorted        1\nspecialized    1\nspecifically    1\nstatements.    1\nstrings       1\nsubsequent    1\nsupplying     1\nsupport:      1\nsupported     1\nsupporting    1\nt             1\ntable,        1\ntailored      1\ntext          1\ntheir         1\nthemselves    1\nthere         1\nthis          1\nthose         1\nthree         1\ntogether      1\ntp_iternext    1\ntraversal.)    1\ntree          1\ntuple,        1\ntuples,       1\ntype,         1\ntypes:        1\nuser-defined    1\nusing         1\nvalue         1\nway           1\nwill          1\nwith          1\nwould         1\nx             1\nyield         1\n—             1\n"
    }
   ],
   "source": [
    "#5.打印输出\n",
    "for word,count in countsList:\n",
    "    print('{0:<10}{1:>5}'.format(word,count))"
   ]
  },
  {
   "cell_type": "code",
   "execution_count": null,
   "metadata": {},
   "outputs": [],
   "source": []
  }
 ]
}